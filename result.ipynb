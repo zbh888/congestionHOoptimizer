{
 "cells": [
  {
   "cell_type": "code",
   "execution_count": 1,
   "id": "98232627-3a1c-4750-b408-72e1af6c66be",
   "metadata": {},
   "outputs": [],
   "source": [
    "import matplotlib.pyplot as plt\n",
    "import pickle\n",
    "import numpy as np\n",
    "\n",
    "class Result:\n",
    "    def __init__(self, name):\n",
    "        with open(name, 'rb') as inp:\n",
    "            self.d = pickle.load(inp)\n",
    "        self.N_UE = len(self.d[\"C\"])\n",
    "        self.N_SAT = len(self.d[\"C\"][0])\n",
    "        self.N_TIME = self.d[\"N_TIME\"]\n",
    "        self.x = self.d[\"x\"]\n",
    "        self.xx = self.d[\"xx\"]\n",
    "        self.h = self.d[\"h\"]\n",
    "        self.hh = self.d[\"hh\"]\n",
    "        self.y = self.d[\"y\"]\n",
    "        self.yy = self.d[\"yy\"]\n",
    "        self.o2i = self.d[\"o2i\"]\n",
    "        self.L = self.d[\"L\"]\n",
    "        \n",
    "    def show_UE_status(self, UE):\n",
    "        print(\"##### UE\", UE, \"Handover Status ######\")\n",
    "        for ot in range(self.N_TIME):\n",
    "            for s in range(self.N_SAT):\n",
    "                nt = self.o2i[UE][ot]\n",
    "                if nt > -1:\n",
    "                    if self.x[UE][s][nt] == 1:\n",
    "                        print(\"handover from\", s, \"at time\", ot)\n",
    "                    if self.h[UE][s][nt] == 1:\n",
    "                        print(\"handover to\", s, \"at time\", ot)\n",
    "                    if self.y[UE][s][nt] == 1:\n",
    "                        print(\"select candidate\", s, \"at time\", ot)\n",
    "                    if self.xx[UE][s][nt] == 1:\n",
    "                        print(\"handover from\", s, \"at time\", ot)\n",
    "                    if self.hh[UE][s][nt] == 1:\n",
    "                        print(\"access\", s, \"at time\", ot)\n",
    "                    if self.yy[UE][s][nt] == 1:\n",
    "                        print(\"candidate\", s, \"cancel at time\", ot)\n",
    "        print()\n",
    "\n",
    "    # def show_UE_connection_status(self, UE):\n",
    "    #     print(\"##### UE\", UE, \"Serving Status ######\")\n",
    "    #     for ot in range(self.N_TIME):\n",
    "    #         for s in range(self.N_SAT):\n",
    "    #             nt = self.o2i[UE][ot]\n",
    "    #             if nt > -1 and self.h[UE][s][nt] == 1:\n",
    "    #                 print(\"UE\", UE, \"served by Satellite\", s, \"at time\", ot)\n",
    "    #     print()\n",
    "\n",
    "    def generate_UE_N_TIME(self, ot):\n",
    "        l = []\n",
    "        for UE in range(self.N_UE):\n",
    "            if self.o2i[UE][ot] > -1:\n",
    "                l.append((UE, self.o2i[UE][ot]))\n",
    "        return l \n",
    "\n",
    "    # def show_UE_access_status(self, UE):\n",
    "    #     if \"xx\" in self.d:\n",
    "    #         print(\"##### UE\", UE, \"Handover Status ######\")\n",
    "    #         for ot in range(self.N_TIME):\n",
    "    #             for s in range(self.N_SAT):\n",
    "    #                 nt = self.o2i[UE][ot]\n",
    "    #                 if nt > -1 and self.hh[UE][s][nt] == 1:\n",
    "    #                     print(\"UE\", UE, \"access\", s, \"at time\", ot)\n",
    "    #         print()\n",
    "\n",
    "    # def show_SAT_load_status(self, SAT):\n",
    "    #     print(\"##### SAT\", SAT, \"Load Status ######\")\n",
    "    #     load = []\n",
    "    #     for ot in range(self.N_TIME):\n",
    "    #         UE_N_TIME = self.generate_UE_N_TIME(ot)\n",
    "    #         if len(UE_N_TIME) >= 1:\n",
    "    #             l = np.sum(list((self.h[u][SAT][t] * self.L[u][SAT][t] + self.x[u][SAT][t]) for u, t in UE_N_TIME))\n",
    "    #             load.append(l)\n",
    "    #         else:\n",
    "    #             load.append(0)\n",
    "    #     plt.scatter(list(range(len(load))),load)\n",
    "\n",
    "    #     # Adding labels and title\n",
    "    #     plt.xlabel('Time')\n",
    "    #     plt.ylabel('Signal count')\n",
    "    #     plt.title('Signal load of satellite ' + str(SAT))\n",
    "\n",
    "    #     # Display the plot\n",
    "    #     plt.show()\n",
    "    #     print()\n",
    "    #     return load"
   ]
  },
  {
   "cell_type": "code",
   "execution_count": 2,
   "id": "cfe45f47-a9e8-4afa-86ea-80d4a2ed910c",
   "metadata": {},
   "outputs": [],
   "source": [
    "r = Result('cho.pkl')"
   ]
  },
  {
   "cell_type": "code",
   "execution_count": 3,
   "id": "1f68e826-86ed-4dca-84da-fb335b23af16",
   "metadata": {},
   "outputs": [
    {
     "name": "stdout",
     "output_type": "stream",
     "text": [
      "##### UE 0 Handover Status ######\n",
      "handover from 1 at time 2\n",
      "select candidate 2 at time 2\n",
      "handover to 4 at time 2\n",
      "select candidate 6 at time 2\n",
      "handover from 1 at time 3\n",
      "candidate 2 cancel at time 3\n",
      "access 4 at time 3\n",
      "candidate 6 cancel at time 3\n",
      "\n"
     ]
    }
   ],
   "source": [
    "r.show_UE_status(0)"
   ]
  },
  {
   "cell_type": "code",
   "execution_count": null,
   "id": "a3960058-085c-4ef4-bea9-20ca08de8bc7",
   "metadata": {},
   "outputs": [],
   "source": []
  }
 ],
 "metadata": {
  "kernelspec": {
   "display_name": "Python 3 (ipykernel)",
   "language": "python",
   "name": "python3"
  },
  "language_info": {
   "codemirror_mode": {
    "name": "ipython",
    "version": 3
   },
   "file_extension": ".py",
   "mimetype": "text/x-python",
   "name": "python",
   "nbconvert_exporter": "python",
   "pygments_lexer": "ipython3",
   "version": "3.9.6"
  }
 },
 "nbformat": 4,
 "nbformat_minor": 5
}
